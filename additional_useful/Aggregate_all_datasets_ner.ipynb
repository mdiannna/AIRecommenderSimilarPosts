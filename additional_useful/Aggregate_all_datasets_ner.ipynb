{
 "cells": [
  {
   "cell_type": "code",
   "execution_count": 26,
   "metadata": {},
   "outputs": [],
   "source": [
    "import pandas as pd\n",
    "import os\n",
    "import numpy as np\n",
    "import time\n",
    "from datetime import datetime"
   ]
  },
  {
   "cell_type": "code",
   "execution_count": 11,
   "metadata": {},
   "outputs": [],
   "source": [
    "FOLDER_NAME = 'created_datasets_for_ner/'"
   ]
  },
  {
   "cell_type": "code",
   "execution_count": 17,
   "metadata": {},
   "outputs": [
    {
     "name": "stdout",
     "output_type": "stream",
     "text": [
      "created_datasets_for_ner/RO_data_17-12-2020_hour_20.csv\n",
      "created_datasets_for_ner/RO_data_26-12-2020_hour_11.csv\n",
      "created_datasets_for_ner/RO_data_28-12-2020_hour_17.csv\n"
     ]
    }
   ],
   "source": [
    "df_res_ro = pd.DataFrame(columns=[\"link\", \"text\", \"location\", \"phone\", \"language\"])\n",
    "\n",
    "for file in os.listdir(FOLDER_NAME):\n",
    "    if file.endswith(\".csv\") and file.startswith('RO'):\n",
    "        full_name = os.path.join(FOLDER_NAME, file)\n",
    "        print(full_name)\n",
    "        df = pd.read_csv(full_name)\n",
    "#         print(df.head())\n",
    "        df_res_ro = df_res_ro.append(df)"
   ]
  },
  {
   "cell_type": "code",
   "execution_count": 18,
   "metadata": {},
   "outputs": [
    {
     "data": {
      "text/html": [
       "<div>\n",
       "<style scoped>\n",
       "    .dataframe tbody tr th:only-of-type {\n",
       "        vertical-align: middle;\n",
       "    }\n",
       "\n",
       "    .dataframe tbody tr th {\n",
       "        vertical-align: top;\n",
       "    }\n",
       "\n",
       "    .dataframe thead th {\n",
       "        text-align: right;\n",
       "    }\n",
       "</style>\n",
       "<table border=\"1\" class=\"dataframe\">\n",
       "  <thead>\n",
       "    <tr style=\"text-align: right;\">\n",
       "      <th></th>\n",
       "      <th>link</th>\n",
       "      <th>text</th>\n",
       "      <th>location</th>\n",
       "      <th>phone</th>\n",
       "      <th>language</th>\n",
       "    </tr>\n",
       "  </thead>\n",
       "  <tbody>\n",
       "    <tr>\n",
       "      <th>0</th>\n",
       "      <td>https://999.md/ru/69379212</td>\n",
       "      <td>Ajutați-mă să-l găsesc ! Cind a pleca era tot ...</td>\n",
       "      <td>Молдова, Флорешты</td>\n",
       "      <td>+373 69 697171</td>\n",
       "      <td>ro</td>\n",
       "    </tr>\n",
       "    <tr>\n",
       "      <th>1</th>\n",
       "      <td>https://999.md/ru/69351206</td>\n",
       "      <td>Rog sa ne ajutați sa găsim cățelul!  Pe data d...</td>\n",
       "      <td>Молдова, Кишинёв мун.</td>\n",
       "      <td>+373 69 888100</td>\n",
       "      <td>ro</td>\n",
       "    </tr>\n",
       "    <tr>\n",
       "      <th>2</th>\n",
       "      <td>https://999.md/ru/69334577</td>\n",
       "      <td>S-a pierdut pe 14 decembrie pe la ora 15.00-16...</td>\n",
       "      <td>Молдова, Кишинёв мун.</td>\n",
       "      <td>+373 69 871503</td>\n",
       "      <td>ro</td>\n",
       "    </tr>\n",
       "    <tr>\n",
       "      <th>3</th>\n",
       "      <td>https://999.md/ru/69328037</td>\n",
       "      <td>NaN</td>\n",
       "      <td>Молдова, Кишинёв мун.</td>\n",
       "      <td>Без звонков, предпочитаю сообщения</td>\n",
       "      <td>ro</td>\n",
       "    </tr>\n",
       "    <tr>\n",
       "      <th>4</th>\n",
       "      <td>https://999.md/ru/69261231</td>\n",
       "      <td>L-am găsit in scara blocului de pe strada Lech...</td>\n",
       "      <td>Молдова, Кишинёв мун.</td>\n",
       "      <td>+373 78 029341</td>\n",
       "      <td>ro</td>\n",
       "    </tr>\n",
       "  </tbody>\n",
       "</table>\n",
       "</div>"
      ],
      "text/plain": [
       "                         link  \\\n",
       "0  https://999.md/ru/69379212   \n",
       "1  https://999.md/ru/69351206   \n",
       "2  https://999.md/ru/69334577   \n",
       "3  https://999.md/ru/69328037   \n",
       "4  https://999.md/ru/69261231   \n",
       "\n",
       "                                                text               location  \\\n",
       "0  Ajutați-mă să-l găsesc ! Cind a pleca era tot ...      Молдова, Флорешты   \n",
       "1  Rog sa ne ajutați sa găsim cățelul!  Pe data d...  Молдова, Кишинёв мун.   \n",
       "2  S-a pierdut pe 14 decembrie pe la ora 15.00-16...  Молдова, Кишинёв мун.   \n",
       "3                                                NaN  Молдова, Кишинёв мун.   \n",
       "4  L-am găsit in scara blocului de pe strada Lech...  Молдова, Кишинёв мун.   \n",
       "\n",
       "                                phone language  \n",
       "0                      +373 69 697171       ro  \n",
       "1                      +373 69 888100       ro  \n",
       "2                      +373 69 871503       ro  \n",
       "3  Без звонков, предпочитаю сообщения       ro  \n",
       "4                      +373 78 029341       ro  "
      ]
     },
     "execution_count": 18,
     "metadata": {},
     "output_type": "execute_result"
    }
   ],
   "source": [
    "df_res_ro.head()"
   ]
  },
  {
   "cell_type": "code",
   "execution_count": 19,
   "metadata": {},
   "outputs": [
    {
     "name": "stdout",
     "output_type": "stream",
     "text": [
      "<class 'pandas.core.frame.DataFrame'>\n",
      "Int64Index: 23 entries, 0 to 5\n",
      "Data columns (total 5 columns):\n",
      " #   Column    Non-Null Count  Dtype \n",
      "---  ------    --------------  ----- \n",
      " 0   link      23 non-null     object\n",
      " 1   text      22 non-null     object\n",
      " 2   location  23 non-null     object\n",
      " 3   phone     23 non-null     object\n",
      " 4   language  23 non-null     object\n",
      "dtypes: object(5)\n",
      "memory usage: 1.1+ KB\n"
     ]
    }
   ],
   "source": [
    "df_res_ro.info()"
   ]
  },
  {
   "cell_type": "code",
   "execution_count": 22,
   "metadata": {},
   "outputs": [],
   "source": [
    "df_ro_unique = df_res_ro.drop_duplicates()"
   ]
  },
  {
   "cell_type": "code",
   "execution_count": 23,
   "metadata": {},
   "outputs": [
    {
     "data": {
      "text/html": [
       "<div>\n",
       "<style scoped>\n",
       "    .dataframe tbody tr th:only-of-type {\n",
       "        vertical-align: middle;\n",
       "    }\n",
       "\n",
       "    .dataframe tbody tr th {\n",
       "        vertical-align: top;\n",
       "    }\n",
       "\n",
       "    .dataframe thead th {\n",
       "        text-align: right;\n",
       "    }\n",
       "</style>\n",
       "<table border=\"1\" class=\"dataframe\">\n",
       "  <thead>\n",
       "    <tr style=\"text-align: right;\">\n",
       "      <th></th>\n",
       "      <th>link</th>\n",
       "      <th>text</th>\n",
       "      <th>location</th>\n",
       "      <th>phone</th>\n",
       "      <th>language</th>\n",
       "    </tr>\n",
       "  </thead>\n",
       "  <tbody>\n",
       "    <tr>\n",
       "      <th>0</th>\n",
       "      <td>https://999.md/ru/69379212</td>\n",
       "      <td>Ajutați-mă să-l găsesc ! Cind a pleca era tot ...</td>\n",
       "      <td>Молдова, Флорешты</td>\n",
       "      <td>+373 69 697171</td>\n",
       "      <td>ro</td>\n",
       "    </tr>\n",
       "    <tr>\n",
       "      <th>1</th>\n",
       "      <td>https://999.md/ru/69351206</td>\n",
       "      <td>Rog sa ne ajutați sa găsim cățelul!  Pe data d...</td>\n",
       "      <td>Молдова, Кишинёв мун.</td>\n",
       "      <td>+373 69 888100</td>\n",
       "      <td>ro</td>\n",
       "    </tr>\n",
       "    <tr>\n",
       "      <th>2</th>\n",
       "      <td>https://999.md/ru/69334577</td>\n",
       "      <td>S-a pierdut pe 14 decembrie pe la ora 15.00-16...</td>\n",
       "      <td>Молдова, Кишинёв мун.</td>\n",
       "      <td>+373 69 871503</td>\n",
       "      <td>ro</td>\n",
       "    </tr>\n",
       "    <tr>\n",
       "      <th>3</th>\n",
       "      <td>https://999.md/ru/69328037</td>\n",
       "      <td>NaN</td>\n",
       "      <td>Молдова, Кишинёв мун.</td>\n",
       "      <td>Без звонков, предпочитаю сообщения</td>\n",
       "      <td>ro</td>\n",
       "    </tr>\n",
       "    <tr>\n",
       "      <th>4</th>\n",
       "      <td>https://999.md/ru/69261231</td>\n",
       "      <td>L-am găsit in scara blocului de pe strada Lech...</td>\n",
       "      <td>Молдова, Кишинёв мун.</td>\n",
       "      <td>+373 78 029341</td>\n",
       "      <td>ro</td>\n",
       "    </tr>\n",
       "  </tbody>\n",
       "</table>\n",
       "</div>"
      ],
      "text/plain": [
       "                         link  \\\n",
       "0  https://999.md/ru/69379212   \n",
       "1  https://999.md/ru/69351206   \n",
       "2  https://999.md/ru/69334577   \n",
       "3  https://999.md/ru/69328037   \n",
       "4  https://999.md/ru/69261231   \n",
       "\n",
       "                                                text               location  \\\n",
       "0  Ajutați-mă să-l găsesc ! Cind a pleca era tot ...      Молдова, Флорешты   \n",
       "1  Rog sa ne ajutați sa găsim cățelul!  Pe data d...  Молдова, Кишинёв мун.   \n",
       "2  S-a pierdut pe 14 decembrie pe la ora 15.00-16...  Молдова, Кишинёв мун.   \n",
       "3                                                NaN  Молдова, Кишинёв мун.   \n",
       "4  L-am găsit in scara blocului de pe strada Lech...  Молдова, Кишинёв мун.   \n",
       "\n",
       "                                phone language  \n",
       "0                      +373 69 697171       ro  \n",
       "1                      +373 69 888100       ro  \n",
       "2                      +373 69 871503       ro  \n",
       "3  Без звонков, предпочитаю сообщения       ro  \n",
       "4                      +373 78 029341       ro  "
      ]
     },
     "execution_count": 23,
     "metadata": {},
     "output_type": "execute_result"
    }
   ],
   "source": [
    "df_ro_unique.head()"
   ]
  },
  {
   "cell_type": "code",
   "execution_count": 24,
   "metadata": {},
   "outputs": [
    {
     "name": "stdout",
     "output_type": "stream",
     "text": [
      "<class 'pandas.core.frame.DataFrame'>\n",
      "Int64Index: 11 entries, 0 to 1\n",
      "Data columns (total 5 columns):\n",
      " #   Column    Non-Null Count  Dtype \n",
      "---  ------    --------------  ----- \n",
      " 0   link      11 non-null     object\n",
      " 1   text      10 non-null     object\n",
      " 2   location  11 non-null     object\n",
      " 3   phone     11 non-null     object\n",
      " 4   language  11 non-null     object\n",
      "dtypes: object(5)\n",
      "memory usage: 528.0+ bytes\n"
     ]
    }
   ],
   "source": [
    "df_ro_unique.info()"
   ]
  },
  {
   "cell_type": "markdown",
   "metadata": {},
   "source": [
    "### Write results to a new directory when ready"
   ]
  },
  {
   "cell_type": "code",
   "execution_count": 28,
   "metadata": {},
   "outputs": [],
   "source": [
    "\n",
    "# current_data_hour = datetime.now().strftime('%d-%m-%Y_hour_%H')\n",
    "# NEW_FOLDER_NAE = 'Aggregated_...'... # pentru a nu fi toate in acelasi directoriu cu setul de date extras pe bucati trebuie de pus\n",
    "# # in alta mapa\n",
    "\n",
    "# df_ro_unique.to_csv(NEWFOLDER_NAME + 'RO_dataset_aggregated_' + current_data_hour, index=False)\n",
    "#or\n",
    "# df_ro_unique.to_csv(FOLDER_NAME + 'Aggregated_RO_dataset_' + current_data_hour, index=False)\n",
    "\n"
   ]
  }
 ],
 "metadata": {
  "kernelspec": {
   "display_name": "Python 3",
   "language": "python",
   "name": "python3"
  },
  "language_info": {
   "codemirror_mode": {
    "name": "ipython",
    "version": 3
   },
   "file_extension": ".py",
   "mimetype": "text/x-python",
   "name": "python",
   "nbconvert_exporter": "python",
   "pygments_lexer": "ipython3",
   "version": "3.8.5"
  }
 },
 "nbformat": 4,
 "nbformat_minor": 4
}
